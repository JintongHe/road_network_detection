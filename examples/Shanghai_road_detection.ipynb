{
 "cells": [
  {
   "cell_type": "markdown",
   "source": [
    "# 语义分割模型使用实例——道路分割"
   ],
   "metadata": {
    "collapsed": false
   },
   "id": "b2f41ae7dc809aff"
  },
  {
   "cell_type": "markdown",
   "source": [
    "首先导入必要的包"
   ],
   "metadata": {
    "collapsed": false
   },
   "id": "df9ab860f3e11021"
  },
  {
   "cell_type": "code",
   "execution_count": 1,
   "outputs": [
    {
     "ename": "ModuleNotFoundError",
     "evalue": "No module named 'lightning'",
     "output_type": "error",
     "traceback": [
      "\u001B[1;31m---------------------------------------------------------------------------\u001B[0m",
      "\u001B[1;31mModuleNotFoundError\u001B[0m                       Traceback (most recent call last)",
      "\u001B[1;32md:\\Temp\\ipykernel_9284\\2228973273.py\u001B[0m in \u001B[0;36m<module>\u001B[1;34m\u001B[0m\n\u001B[0;32m      1\u001B[0m \u001B[1;32mfrom\u001B[0m \u001B[0mdataset_preparation\u001B[0m \u001B[1;32mimport\u001B[0m \u001B[0mlinestrip_to_mask\u001B[0m\u001B[1;33m,\u001B[0m \u001B[0msplit_image_mask_train\u001B[0m\u001B[1;33m,\u001B[0m \u001B[0msplit_train_val_test\u001B[0m\u001B[1;33m,\u001B[0m \u001B[0mvisualize_mask\u001B[0m\u001B[1;33m\u001B[0m\u001B[1;33m\u001B[0m\u001B[0m\n\u001B[1;32m----> 2\u001B[1;33m \u001B[1;32mfrom\u001B[0m \u001B[0mtraining\u001B[0m \u001B[1;32mimport\u001B[0m \u001B[0mtrain\u001B[0m\u001B[1;33m\u001B[0m\u001B[1;33m\u001B[0m\u001B[0m\n\u001B[0m\u001B[0;32m      3\u001B[0m \u001B[1;32mfrom\u001B[0m \u001B[0minference\u001B[0m \u001B[1;32mimport\u001B[0m \u001B[0minference\u001B[0m\u001B[1;33m,\u001B[0m \u001B[0mskeleton\u001B[0m\u001B[1;33m\u001B[0m\u001B[1;33m\u001B[0m\u001B[0m\n\u001B[0;32m      4\u001B[0m \u001B[1;32mimport\u001B[0m \u001B[0mrequests\u001B[0m\u001B[1;33m\u001B[0m\u001B[1;33m\u001B[0m\u001B[0m\n\u001B[0;32m      5\u001B[0m \u001B[1;32mimport\u001B[0m \u001B[0mzipfile\u001B[0m\u001B[1;33m\u001B[0m\u001B[1;33m\u001B[0m\u001B[0m\n",
      "\u001B[1;32mD:\\Code\\gitcode\\Server06\\road_network_detection\\training\\train.py\u001B[0m in \u001B[0;36m<module>\u001B[1;34m\u001B[0m\n\u001B[0;32m      1\u001B[0m \u001B[1;32mimport\u001B[0m \u001B[0mos\u001B[0m\u001B[1;33m\u001B[0m\u001B[1;33m\u001B[0m\u001B[0m\n\u001B[0;32m      2\u001B[0m \u001B[1;33m\u001B[0m\u001B[0m\n\u001B[1;32m----> 3\u001B[1;33m \u001B[1;32mimport\u001B[0m \u001B[0mlightning\u001B[0m \u001B[1;32mas\u001B[0m \u001B[0mL\u001B[0m\u001B[1;33m\u001B[0m\u001B[1;33m\u001B[0m\u001B[0m\n\u001B[0m\u001B[0;32m      4\u001B[0m \u001B[1;32mimport\u001B[0m \u001B[0msegmentation_models_pytorch\u001B[0m \u001B[1;32mas\u001B[0m \u001B[0msmp\u001B[0m\u001B[1;33m\u001B[0m\u001B[1;33m\u001B[0m\u001B[0m\n\u001B[0;32m      5\u001B[0m \u001B[1;32mimport\u001B[0m \u001B[0mtorch\u001B[0m\u001B[1;33m\u001B[0m\u001B[1;33m\u001B[0m\u001B[0m\n",
      "\u001B[1;31mModuleNotFoundError\u001B[0m: No module named 'lightning'"
     ]
    }
   ],
   "source": [
    "from dataset_preparation import linestrip_to_mask, split_image_mask_train, split_train_val_test, visualize_mask\n",
    "from training import train\n",
    "from inference import inference, skeleton\n",
    "import requests\n",
    "import zipfile\n",
    "import os"
   ],
   "metadata": {
    "collapsed": false,
    "ExecuteTime": {
     "end_time": "2024-03-06T09:25:20.838900300Z",
     "start_time": "2024-03-06T09:25:20.061232500Z"
    }
   },
   "id": "198d6914b839d3e"
  },
  {
   "cell_type": "markdown",
   "source": [
    "运行以下代码下载数据集"
   ],
   "metadata": {
    "collapsed": false
   },
   "id": "5a1c496b64c189ba"
  },
  {
   "cell_type": "code",
   "execution_count": null,
   "outputs": [],
   "source": [
    "def download_file_from_google_drive(id, destination):\n",
    "    URL = \"https://docs.google.com/uc?export=download&confirm=1\"\n",
    "\n",
    "    session = requests.Session()\n",
    "\n",
    "    response = session.get(URL, params={\"id\": id}, stream=True)\n",
    "    token = get_confirm_token(response)\n",
    "\n",
    "    if token:\n",
    "        params = {\"id\": id, \"confirm\": token}\n",
    "        response = session.get(URL, params=params, stream=True)\n",
    "\n",
    "    save_response_content(response, destination)\n",
    "\n",
    "\n",
    "def get_confirm_token(response):\n",
    "    for key, value in response.cookies.items():\n",
    "        if key.startswith(\"download_warning\"):\n",
    "            return value\n",
    "\n",
    "    return None\n",
    "\n",
    "\n",
    "def save_response_content(response, destination):\n",
    "    CHUNK_SIZE = 32768\n",
    "\n",
    "    with open(destination, \"wb\") as f:\n",
    "        for chunk in response.iter_content(CHUNK_SIZE):\n",
    "            if chunk:  # filter out keep-alive new chunks\n",
    "                f.write(chunk)\n",
    "\n",
    "id = \"1oFHu6KEzEHMrnKwSJ8iye4Ggp1BZ-czD\"\n",
    "destination = \"road_network.zip\"\n",
    "download_file_from_google_drive(id, destination)\n",
    "\n",
    "zip_path = \"road_network.zip\"\n",
    "extract_path = \"./road_network_detection/dataset\"\n",
    "\n",
    "with zipfile.ZipFile(zip_path, 'r') as zip_ref:\n",
    "    for file_info in zip_ref.infolist():\n",
    "        file_name = file_info.filename\n",
    "\n",
    "        # Attempt to decode the file name\n",
    "        try:\n",
    "            file_name = file_name.encode('cp437').decode('gbk')  # Adjust the encoding as needed\n",
    "        except:\n",
    "            file_name = file_name.encode('cp437').decode('utf-8', 'ignore')  # Fallback to UTF-8\n",
    "\n",
    "        extracted_path = os.path.join(extract_path, file_name)\n",
    "        \n",
    "        # Create directory structure\n",
    "        if file_info.is_dir():\n",
    "            os.makedirs(extracted_path, exist_ok=True)\n",
    "        else:\n",
    "            os.makedirs(os.path.dirname(extracted_path), exist_ok=True)\n",
    "            \n",
    "            # Extract and write the file\n",
    "            with open(extracted_path, 'wb') as f:\n",
    "                f.write(zip_ref.read(file_info.filename))"
   ],
   "metadata": {
    "collapsed": false
   },
   "id": "eed96c400de7513a"
  }
 ],
 "metadata": {
  "kernelspec": {
   "display_name": "Python 3",
   "language": "python",
   "name": "python3"
  },
  "language_info": {
   "codemirror_mode": {
    "name": "ipython",
    "version": 2
   },
   "file_extension": ".py",
   "mimetype": "text/x-python",
   "name": "python",
   "nbconvert_exporter": "python",
   "pygments_lexer": "ipython2",
   "version": "2.7.6"
  }
 },
 "nbformat": 4,
 "nbformat_minor": 5
}
