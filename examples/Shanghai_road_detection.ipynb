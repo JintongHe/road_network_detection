{
 "cells": [
  {
   "cell_type": "markdown",
   "id": "b2f41ae7dc809aff",
   "metadata": {},
   "source": [
    "# 语义分割模型使用实例——道路分割"
   ]
  },
  {
   "cell_type": "markdown",
   "id": "df9ab860f3e11021",
   "metadata": {},
   "source": [
    "首先导入必要的包"
   ]
  },
  {
   "cell_type": "code",
   "execution_count": null,
   "id": "198d6914b839d3e",
   "metadata": {
    "is_executing": true
   },
   "outputs": [],
   "source": [
    "import sys\n",
    "sys.path.append('../dataset_preparation')\n",
    "sys.path.append('../training')\n",
    "sys.path.append('../inference')\n",
    "import linestrip_to_mask, split_image_mask_train, split_train_val_test, visualize_mask\n",
    "import train\n",
    "import inference, skeleton, road_network_detect_main\n",
    "import requests\n",
    "import zipfile\n",
    "import os\n",
    "import gdown"
   ]
  },
  {
   "cell_type": "markdown",
   "id": "b4f81fec",
   "metadata": {},
   "source": [
    "## 1.数据准备"
   ]
  },
  {
   "cell_type": "markdown",
   "id": "5a1c496b64c189ba",
   "metadata": {},
   "source": [
    "运行以下代码下载数据集"
   ]
  },
  {
   "cell_type": "code",
   "execution_count": null,
   "id": "eed96c400de7513a",
   "metadata": {
    "scrolled": true
   },
   "outputs": [],
   "source": [
    "url = 'https://drive.google.com/file/d/1oFHu6KEzEHMrnKwSJ8iye4Ggp1BZ-czD/view?usp=sharing'\n",
    "output_path = 'road_network_detection.zip'\n",
    "gdown.download(url, output_path, quiet=False, fuzzy=True)"
   ]
  },
  {
   "cell_type": "code",
   "execution_count": null,
   "id": "9dc093ef",
   "metadata": {},
   "outputs": [],
   "source": [
    "! mkdir dataset\n",
    "! mv road_network_detection.zip dataset\n",
    "! unzip dataset/road_network_detection.zip"
   ]
  },
  {
   "cell_type": "markdown",
   "id": "e9d8a326",
   "metadata": {},
   "source": [
    "运行linestrip_to_mask程序，可将geojson格式道路标注转化为mask。line_width为道路宽度(米)\n",
    "\n",
    "example数据集已经将linestrip转为mask，可以跳过这一步"
   ]
  },
  {
   "cell_type": "code",
   "execution_count": null,
   "id": "193e4680",
   "metadata": {},
   "outputs": [],
   "source": [
    "img_dir = 'dataset/train/images'\n",
    "geojson_dir = 'dataset/train/labels'\n",
    "linestrip_to_mask.linestring_to_mask_batch(img_dir, geojson_dir, line_width=4)"
   ]
  },
  {
   "cell_type": "markdown",
   "id": "a594b779",
   "metadata": {},
   "source": [
    "运行split_train_val_test程序，可将数据集划分为训练、验证、测试集。验证集测试集比例可以调整。example数据集已经将数据集划分为了train/val，可以跳过这一步"
   ]
  },
  {
   "cell_type": "code",
   "execution_count": null,
   "id": "ab60fb00",
   "metadata": {},
   "outputs": [],
   "source": [
    "img_path = 'dataset/train/images'\n",
    "label_path = 'dataset/train/labels'\n",
    "split_train_val_test.split_train_val_test(img_path, label_path, val_percentage=0.1, test_percentage=0.1)"
   ]
  },
  {
   "cell_type": "markdown",
   "id": "4aded7ec",
   "metadata": {},
   "source": [
    "运行split_image_mask_train程序，可以将大的tif图片切割成小图，方便后续识别，可以跳过这一步"
   ]
  },
  {
   "cell_type": "code",
   "execution_count": null,
   "id": "1416053a",
   "metadata": {},
   "outputs": [],
   "source": [
    "# 切割尺寸（单位：米）\n",
    "split_sizes = [[500, 500], [700, 700], [900, 900]]\n",
    "images_folder_path = 'dataset/train/images'\n",
    "masks_folder_path = 'dataset/train/labels'\n",
    "# 切割后图片尺寸（和后面模型输入尺寸对应）\n",
    "input_img_size = 1024\n",
    "split_image_mask_train.split_images_segment_v1(images_folder_path, split_sizes, masks_folder_path, input_img_size)"
   ]
  },
  {
   "cell_type": "markdown",
   "id": "15e21dd6",
   "metadata": {},
   "source": [
    "## 2. 模型训练"
   ]
  },
  {
   "cell_type": "markdown",
   "id": "458af66c",
   "metadata": {},
   "source": [
    "运行train.py启动训练。训练可调参数如下。base_dir里面需要有train/val两个文件夹。"
   ]
  },
  {
   "cell_type": "code",
   "execution_count": null,
   "id": "1a72fd88",
   "metadata": {},
   "outputs": [],
   "source": [
    "base_dir = 'dataset/'\n",
    "# 模型架构可以从这几个里面选\n",
    "# ['unet', 'unetplusplus', 'manet', 'linknet', 'fpn', 'pspnet', 'deeplabv3', 'deeplabv3plus', 'pan']\n",
    "# https://github.com/qubvel/segmentation_models.pytorch\n",
    "architecture = 'unet'\n",
    "\n",
    "encoder = 'resnet34'\n",
    "device = [0, 1, 2, 3]\n",
    "save_model_every_n_epochs = 25\n",
    "max_epochs = 200\n",
    "checkpoint_callback_dir = os.path.join(base_dir, 'model_checkpoints/')\n",
    "img_size = 640\n",
    "batch_size = 8\n",
    "initial_learning_rate = 1e-3\n",
    "patience = 20\n",
    "log_dir = os.path.join(base_dir, 'tb_logs')\n",
    "# tensorboard --logdir=log_dir\n",
    "# 添加本地映射命令：ssh -L 6006:localhost:6006 zkxq@192.168.50.6\n",
    "name = 'access_road'\n",
    "\n",
    "seg_data_module = train.setup_data_module(base_dir, img_size, batch_size)\n",
    "model, trainer = train.setup_model_and_trainer(architecture, encoder, save_model_every_n_epochs, max_epochs,\n",
    "                                         checkpoint_callback_dir, initial_learning_rate, patience,\n",
    "                                         log_dir, name, device)\n",
    "tuner = train.Tuner(trainer)\n",
    "# Auto-scale batch size by growing it exponentially (default)\n",
    "# tuner.scale_batch_size(model, mode=\"power\")\n",
    "tuner.lr_find(model, datamodule=seg_data_module)\n",
    "trainer.fit(model, datamodule=seg_data_module)\n",
    "valid_metrics = trainer.validate(model, seg_data_module, verbose=False)\n",
    "test_metrics = trainer.test(model, seg_data_module, verbose=False)\n",
    "\n",
    "pprint(valid_metrics)\n",
    "pprint(test_metrics)"
   ]
  },
  {
   "cell_type": "markdown",
   "id": "bf8c2fbd",
   "metadata": {},
   "source": [
    "## 2. 模型预测"
   ]
  },
  {
   "cell_type": "markdown",
   "id": "96cc54dd",
   "metadata": {},
   "source": [
    "运行road_network_detect_main.py预测模型。在config/road_network.yaml中指明模型路径以及切割图片大小。程序最终会在out_dir里生成每张图片对应的geojson文件"
   ]
  },
  {
   "cell_type": "code",
   "execution_count": null,
   "id": "736b7844",
   "metadata": {},
   "outputs": [],
   "source": [
    "config_dict = road_network_detect_main.get_config()\n",
    "image_path = \"/home/zkxq/project/hjt/smp/datasets/Wind_Turbine/test/test_img\"\n",
    "out_dir = \"/home/zkxq/project/hjt/smp/datasets/Wind_Turbine/out\"\n",
    "   \n",
    "# config_dict['start_time'] = start_time\n",
    "mid_path = os.path.join(image_path, 'mid_result')\n",
    "os.makedirs(mid_path, exist_ok=True)\n",
    "config_dict['mid_path'] = mid_path\n",
    "config_dict['image_path'] = image_path\n",
    "config_dict['image_paths'] = road_network_detect_main.change_img_path(image_path)\n",
    "config_dict['out_dir'] = out_dir\n",
    "\n",
    "road_network_detect_main.model_predict(config_dict)\n",
    "road_network_detect_main.after_handle(config_dict)\n",
    "print(f'结果已存储在：{out_dir}')"
   ]
  }
 ],
 "metadata": {
  "kernelspec": {
   "display_name": "smp",
   "language": "python",
   "name": "smp"
  },
  "language_info": {
   "codemirror_mode": {
    "name": "ipython",
    "version": 3
   },
   "file_extension": ".py",
   "mimetype": "text/x-python",
   "name": "python",
   "nbconvert_exporter": "python",
   "pygments_lexer": "ipython3",
   "version": "3.10.13"
  }
 },
 "nbformat": 4,
 "nbformat_minor": 5
}
